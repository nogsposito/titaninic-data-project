{
 "cells": [
  {
   "cell_type": "markdown",
   "id": "d989b43b",
   "metadata": {},
   "source": [
    "Desenvolvimento do modelo de Machine Learning:"
   ]
  },
  {
   "cell_type": "markdown",
   "id": "ff917027",
   "metadata": {},
   "source": [
    "Primeiramente, incluí bibliotecas como o Pandas e o Numpy para importar modelos e poder filtrá-los. Então, carreguei em df o arquivo 'train.csv' que vem com algumas informações sobre os passageiros que se envolveram no naufrágio:"
   ]
  },
  {
   "cell_type": "code",
   "execution_count": null,
   "id": "ac1bc77f",
   "metadata": {},
   "outputs": [],
   "source": [
    "import pandas as pd\n",
    "import numpy as np\n",
    "\n",
    "df = pd.read_csv(\"../data/raw/train.csv\")\n",
    "\n",
    "df.head()"
   ]
  },
  {
   "cell_type": "markdown",
   "id": "36f70a8d",
   "metadata": {},
   "source": [
    "Análise inicial: Aqui usei colunas disponíveis para poder fazer algumas visualizações básicas de dados, como os valores dos dados, algumas estatísticas sobre eles (como média, desvios, etc) e uma contagem básica da quantidade de sobreviventes totais do naufrágio."
   ]
  },
  {
   "cell_type": "code",
   "execution_count": null,
   "id": "6ee59aca",
   "metadata": {},
   "outputs": [],
   "source": [
    "df.info()"
   ]
  },
  {
   "cell_type": "code",
   "execution_count": null,
   "id": "5040da55",
   "metadata": {},
   "outputs": [],
   "source": [
    "df.describe()"
   ]
  },
  {
   "cell_type": "code",
   "execution_count": null,
   "id": "36a0b937",
   "metadata": {},
   "outputs": [],
   "source": [
    "df['Survived'].value_counts()"
   ]
  },
  {
   "cell_type": "markdown",
   "id": "86642ca4",
   "metadata": {},
   "source": [
    "Aqui foi feita uma limpeza e um pré-processamento dos dados para simplificar o modelo, usando as informações mas importantes e transformado os valores 'masculino' e 'feminino' da coluna Sexo para 0 ou 1."
   ]
  },
  {
   "cell_type": "code",
   "execution_count": null,
   "id": "096da9c0",
   "metadata": {},
   "outputs": [],
   "source": [
    "dados = df[['Survived', 'Pclass', 'Sex', 'Age', 'Fare']].dropna()\n",
    "dados['Sex'] = dados['Sex'].map({'male': 0, 'female': 1})\n",
    "dados.head()"
   ]
  },
  {
   "cell_type": "markdown",
   "id": "69ea9fb8",
   "metadata": {},
   "source": [
    "Para a escolha do modelo, usei o de Regressão logística, que pareceu ser o mais apropriado visto que é mais eficiente para classificação binária - isso é, se alguém sobrevive ou não, encontrando as melhores combinações para prever a sobrevivência dos passageiros com base nos dados de treino."
   ]
  },
  {
   "cell_type": "code",
   "execution_count": 21,
   "id": "60f44b78",
   "metadata": {},
   "outputs": [
    {
     "name": "stdout",
     "output_type": "stream",
     "text": [
      "Acurácia:  0.7552447552447552\n"
     ]
    }
   ],
   "source": [
    "from sklearn.model_selection import train_test_split\n",
    "from sklearn.linear_model import LogisticRegression\n",
    "from sklearn.metrics import accuracy_score\n",
    "\n",
    "x = dados[['Pclass', 'Sex', 'Age', 'Fare']]\n",
    "y = dados['Survived']\n",
    "\n",
    "x_train, x_test, y_train, y_test = train_test_split(x, y, test_size= 0.2, random_state= 42)\n",
    "\n",
    "modelo = LogisticRegression()\n",
    "modelo.fit(x_train, y_train)\n",
    "\n",
    "y_pred = modelo.predict(x_test)\n",
    "\n",
    "print(\"Acurácia: \", accuracy_score(y_test, y_pred))"
   ]
  },
  {
   "cell_type": "markdown",
   "id": "eba2da56",
   "metadata": {},
   "source": [
    "Por meio do modelo de Regressão Logística e utilização das colunas mais importantes, conseguimos uma acurácia de 75.52% para prever os sobreviventes do Titanic!"
   ]
  },
  {
   "cell_type": "markdown",
   "id": "c5a54db4",
   "metadata": {},
   "source": [
    "Agora, para a visualização de gráficos usando Seaborn e Pyplot:"
   ]
  },
  {
   "cell_type": "code",
   "execution_count": null,
   "id": "3439e098",
   "metadata": {},
   "outputs": [],
   "source": [
    "import seaborn as sns\n",
    "import matplotlib.pyplot as plt\n",
    "\n",
    "df['Sobreviveu_Label'] = df['Survived'].map({0: 'Não Sobreviveu', 1: 'Sobreviveu'})\n",
    "\n",
    "sns.countplot(x = 'Survived', hue = 'Sex', data = df)\n",
    "\n",
    "plt.title('Sobrevivência por sexo')\n",
    "plt.xlabel('Situação de sobrevivência')\n",
    "plt.ylabel('Quantidade')\n",
    "plt.show()"
   ]
  },
  {
   "cell_type": "markdown",
   "id": "275b8f79",
   "metadata": {},
   "source": [
    "Aqui está um exemplo de um gráfico gerado pelo código, onde podemos visualizar a quantidade de pessoas que morreram ou que se salvaram no naufrágio dividido entre sexo masculino e feminino no banco de dados."
   ]
  },
  {
   "cell_type": "markdown",
   "id": "f809edd1",
   "metadata": {},
   "source": [
    "Esses foram uns exemplos simples para treinar e aplicar ciência de dados. Mesmo os dados não sendo tão relevantes para os dias atuais, a habilidade para poder processar, filtrar e mnaipular dados dessa forma são muito importantes no mundo real e a chave para tomar decisões eficientes e com embasamento. Muito obrigado por conferir meu projeto!"
   ]
  }
 ],
 "metadata": {
  "kernelspec": {
   "display_name": "venv",
   "language": "python",
   "name": "python3"
  },
  "language_info": {
   "codemirror_mode": {
    "name": "ipython",
    "version": 3
   },
   "file_extension": ".py",
   "mimetype": "text/x-python",
   "name": "python",
   "nbconvert_exporter": "python",
   "pygments_lexer": "ipython3",
   "version": "3.11.9"
  }
 },
 "nbformat": 4,
 "nbformat_minor": 5
}
